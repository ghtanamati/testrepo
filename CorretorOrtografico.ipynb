{
 "cells": [
  {
   "cell_type": "markdown",
   "id": "9dd27fa3",
   "metadata": {},
   "source": [
    "# Corretor Ortográfico"
   ]
  },
  {
   "cell_type": "markdown",
   "id": "59054d51",
   "metadata": {},
   "source": [
    "## Instalando os pacotes"
   ]
  },
  {
   "cell_type": "code",
   "execution_count": 1,
   "id": "7e8a3265",
   "metadata": {},
   "outputs": [
    {
     "name": "stderr",
     "output_type": "stream",
     "text": [
      "[nltk_data] Downloading package punkt to\n",
      "[nltk_data]     /Users/ghtanamati/nltk_data...\n",
      "[nltk_data]   Package punkt is already up-to-date!\n"
     ]
    },
    {
     "data": {
      "text/plain": [
       "True"
      ]
     },
     "execution_count": 1,
     "metadata": {},
     "output_type": "execute_result"
    }
   ],
   "source": [
    "import nltk\n",
    "nltk.download('punkt')"
   ]
  },
  {
   "cell_type": "markdown",
   "id": "66e80f7d",
   "metadata": {},
   "source": [
    "## Abrindo o arquivo"
   ]
  },
  {
   "cell_type": "code",
   "execution_count": 2,
   "id": "2198385c",
   "metadata": {},
   "outputs": [],
   "source": [
    "with open('artigos.txt','r') as file:\n",
    "    artigos = file.read()"
   ]
  },
  {
   "cell_type": "code",
   "execution_count": 3,
   "id": "638c2320",
   "metadata": {},
   "outputs": [
    {
     "name": "stdout",
     "output_type": "stream",
     "text": [
      "\n",
      "\n",
      "\n",
      "imagem \n",
      "\n",
      "Temos a seguinte classe que representa um usuário no nosso sistema:\n",
      "\n",
      "java\n",
      "\n",
      "Para salvar um novo usuário, várias validações são feitas, como por exemplo: Ver se o nome só contém letras, [**o CPF só números**] e ver se o usuário possui no mínimo 18 anos. Veja o método que faz essa validação:\n",
      "\n",
      "java \n",
      "\n",
      "Suponha agora que eu tenha outra classe, a classe `Produto`, que contém um atributo nome e eu quero fazer a mesma validação que fiz para o nome do usuário: Ver se só contém letras. E aí? Vou\n"
     ]
    }
   ],
   "source": [
    "print(artigos[:500])"
   ]
  },
  {
   "cell_type": "code",
   "execution_count": 4,
   "id": "fa08d64d",
   "metadata": {
    "scrolled": true
   },
   "outputs": [
    {
     "data": {
      "text/plain": [
       "2605046"
      ]
     },
     "execution_count": 4,
     "metadata": {},
     "output_type": "execute_result"
    }
   ],
   "source": [
    "len(artigos)"
   ]
  },
  {
   "cell_type": "markdown",
   "id": "788a3a79",
   "metadata": {},
   "source": [
    "#### Mas 2.605.046 é o número de caracteres"
   ]
  },
  {
   "cell_type": "code",
   "execution_count": 5,
   "id": "f8c836a1",
   "metadata": {},
   "outputs": [],
   "source": [
    "lista_artigos = artigos.split()"
   ]
  },
  {
   "cell_type": "code",
   "execution_count": 6,
   "id": "11815d8a",
   "metadata": {},
   "outputs": [
    {
     "data": {
      "text/plain": [
       "416903"
      ]
     },
     "execution_count": 6,
     "metadata": {},
     "output_type": "execute_result"
    }
   ],
   "source": [
    "len(lista_artigos)"
   ]
  },
  {
   "cell_type": "code",
   "execution_count": 7,
   "id": "6c0235c2",
   "metadata": {},
   "outputs": [
    {
     "data": {
      "text/plain": [
       "3"
      ]
     },
     "execution_count": 7,
     "metadata": {},
     "output_type": "execute_result"
    }
   ],
   "source": [
    "string_exemplo = 'Olá, tudo bem?'\n",
    "lista_exemplo = string_exemplo.split()\n",
    "len(lista_exemplo)"
   ]
  },
  {
   "cell_type": "code",
   "execution_count": 8,
   "id": "9987c780",
   "metadata": {},
   "outputs": [
    {
     "name": "stdout",
     "output_type": "stream",
     "text": [
      "Olá,\n",
      "tudo\n",
      "bem?\n"
     ]
    }
   ],
   "source": [
    "for token in lista_exemplo:\n",
    "    print(token)"
   ]
  },
  {
   "cell_type": "markdown",
   "id": "4613fc60",
   "metadata": {},
   "source": [
    "#### Observe que as palavras não foram separadas das pontuações.\n",
    "#### Nós queremos tokens de palavras + tokens de pontuação"
   ]
  },
  {
   "cell_type": "markdown",
   "id": "e9fab3f7",
   "metadata": {},
   "source": [
    "## Refinando a Tokenização"
   ]
  },
  {
   "cell_type": "code",
   "execution_count": 9,
   "id": "80b91b12",
   "metadata": {
    "scrolled": true
   },
   "outputs": [],
   "source": [
    "tokens_exemplo = nltk.tokenize.word_tokenize(string_exemplo)"
   ]
  },
  {
   "cell_type": "code",
   "execution_count": 10,
   "id": "fa4ed74b",
   "metadata": {},
   "outputs": [
    {
     "data": {
      "text/plain": [
       "['Olá', ',', 'tudo', 'bem', '?']"
      ]
     },
     "execution_count": 10,
     "metadata": {},
     "output_type": "execute_result"
    }
   ],
   "source": [
    "tokens_exemplo"
   ]
  },
  {
   "cell_type": "code",
   "execution_count": 11,
   "id": "9108512c",
   "metadata": {},
   "outputs": [
    {
     "data": {
      "text/plain": [
       "5"
      ]
     },
     "execution_count": 11,
     "metadata": {},
     "output_type": "execute_result"
    }
   ],
   "source": [
    "len(tokens_exemplo)"
   ]
  },
  {
   "cell_type": "code",
   "execution_count": 12,
   "id": "4d1ae883",
   "metadata": {},
   "outputs": [],
   "source": [
    "def seleciona_palavras(lista_tokens):\n",
    "    lista_palavras = []\n",
    "    for token in lista_tokens:\n",
    "        if token.isalpha():\n",
    "            lista_palavras.append(token)\n",
    "    return lista_palavras"
   ]
  },
  {
   "cell_type": "code",
   "execution_count": 13,
   "id": "b587aca3",
   "metadata": {},
   "outputs": [],
   "source": [
    "lista_palavras_exemplo = seleciona_palavras(tokens_exemplo)"
   ]
  },
  {
   "cell_type": "code",
   "execution_count": 14,
   "id": "f69a54ac",
   "metadata": {},
   "outputs": [
    {
     "data": {
      "text/plain": [
       "['Olá', 'tudo', 'bem']"
      ]
     },
     "execution_count": 14,
     "metadata": {},
     "output_type": "execute_result"
    }
   ],
   "source": [
    "lista_palavras_exemplo"
   ]
  },
  {
   "cell_type": "code",
   "execution_count": 15,
   "id": "dc2f44d7",
   "metadata": {},
   "outputs": [
    {
     "data": {
      "text/plain": [
       "3"
      ]
     },
     "execution_count": 15,
     "metadata": {},
     "output_type": "execute_result"
    }
   ],
   "source": [
    "len(lista_palavras_exemplo)"
   ]
  },
  {
   "cell_type": "markdown",
   "id": "0c804c07",
   "metadata": {},
   "source": [
    "## Tokenizando 'artigos'"
   ]
  },
  {
   "cell_type": "code",
   "execution_count": 16,
   "id": "087b36ea",
   "metadata": {},
   "outputs": [],
   "source": [
    "lista_tokens = nltk.tokenize.word_tokenize(artigos)\n",
    "lista_palavras = seleciona_palavras(lista_tokens)"
   ]
  },
  {
   "cell_type": "code",
   "execution_count": 17,
   "id": "98d1f872",
   "metadata": {},
   "outputs": [
    {
     "name": "stdout",
     "output_type": "stream",
     "text": [
      "O número de palavras em artigos é: 403031\n"
     ]
    }
   ],
   "source": [
    "print(f'O número de palavras em artigos é: {len(lista_palavras)}')"
   ]
  },
  {
   "cell_type": "markdown",
   "id": "44b5f1df",
   "metadata": {},
   "source": [
    "## Normalização"
   ]
  },
  {
   "cell_type": "code",
   "execution_count": 18,
   "id": "0be597c8",
   "metadata": {},
   "outputs": [],
   "source": [
    "def normalizacao(lista_de_palavras):\n",
    "    lista_normalizada = []\n",
    "    for palavra in lista_de_palavras:\n",
    "        lista_normalizada.append(palavra.lower())\n",
    "    return lista_normalizada"
   ]
  },
  {
   "cell_type": "code",
   "execution_count": 19,
   "id": "33697927",
   "metadata": {},
   "outputs": [],
   "source": [
    "lista_normalizada = normalizacao(lista_palavras)"
   ]
  },
  {
   "cell_type": "markdown",
   "id": "4354f314",
   "metadata": {},
   "source": [
    "## Removendo as palavras repetidas"
   ]
  },
  {
   "cell_type": "code",
   "execution_count": 20,
   "id": "e8c73ba8",
   "metadata": {},
   "outputs": [
    {
     "name": "stdout",
     "output_type": "stream",
     "text": [
      "O número de palavras únicas é: 18464\n"
     ]
    }
   ],
   "source": [
    "print(f'O número de palavras únicas é: {len(set(lista_normalizada))}')"
   ]
  },
  {
   "cell_type": "markdown",
   "id": "1f10e0a7",
   "metadata": {},
   "source": [
    "## Fatiando Strings"
   ]
  },
  {
   "cell_type": "code",
   "execution_count": 21,
   "id": "7198490c",
   "metadata": {},
   "outputs": [
    {
     "name": "stdout",
     "output_type": "stream",
     "text": [
      "[('', 'lgica'), ('l', 'gica'), ('lg', 'ica'), ('lgi', 'ca'), ('lgic', 'a'), ('lgica', '')]\n"
     ]
    }
   ],
   "source": [
    "lista = 'lgica'\n",
    "lista_nova = []\n",
    "for i in range(len(lista)+1):\n",
    "    lista_nova.append((lista[:i],lista[i:]))\n",
    "print(lista_nova)"
   ]
  },
  {
   "cell_type": "markdown",
   "id": "c4cb917b",
   "metadata": {},
   "source": [
    "## Inserindo Letras"
   ]
  },
  {
   "cell_type": "code",
   "execution_count": 22,
   "id": "1a599537",
   "metadata": {},
   "outputs": [],
   "source": [
    "def insere_letras(fatias):\n",
    "    novas_palavras = []\n",
    "    letras = 'abcdefghijklmnopqrstuvwxyzáàãâéèêíìóòôõúùûç'\n",
    "    for E, D in fatias:\n",
    "        for letra in letras:\n",
    "            novas_palavras.append(E + letra + D)\n",
    "    return novas_palavras"
   ]
  },
  {
   "cell_type": "code",
   "execution_count": 23,
   "id": "63712f0f",
   "metadata": {},
   "outputs": [],
   "source": [
    "def gerador_palavras(palavra):\n",
    "    fatias = []\n",
    "    for i in range(len(palavra)+1):\n",
    "        fatias.append((palavra[:i],palavra[i:]))\n",
    "    palavras_geradas = insere_letras(fatias)\n",
    "    return palavras_geradas"
   ]
  },
  {
   "cell_type": "code",
   "execution_count": 24,
   "id": "eb3817ea",
   "metadata": {},
   "outputs": [
    {
     "data": {
      "text/plain": [
       "'lógica'"
      ]
     },
     "execution_count": 24,
     "metadata": {},
     "output_type": "execute_result"
    }
   ],
   "source": [
    "gerador_palavras('lgica')[78]"
   ]
  },
  {
   "cell_type": "code",
   "execution_count": 38,
   "id": "d76f0aec",
   "metadata": {},
   "outputs": [],
   "source": [
    "def corretor(palavra):\n",
    "    palavras_geradas = gerador_palavras(palavra)\n",
    "    palavra_correta = max(palavras_geradas,key=probabilidade)\n",
    "    return palavra_correta"
   ]
  },
  {
   "cell_type": "markdown",
   "id": "9a16e399",
   "metadata": {},
   "source": [
    "## Probabilidade das palavras geradas"
   ]
  },
  {
   "cell_type": "code",
   "execution_count": 29,
   "id": "b348f616",
   "metadata": {},
   "outputs": [
    {
     "data": {
      "text/plain": [
       "[('de', 15502),\n",
       " ('o', 14056),\n",
       " ('que', 12230),\n",
       " ('a', 11099),\n",
       " ('e', 10501),\n",
       " ('para', 7710),\n",
       " ('um', 6367),\n",
       " ('é', 5899),\n",
       " ('uma', 5220),\n",
       " ('do', 5124)]"
      ]
     },
     "execution_count": 29,
     "metadata": {},
     "output_type": "execute_result"
    }
   ],
   "source": [
    "total_de_palavras = len(lista_normalizada)\n",
    "frequencia = nltk.FreqDist(lista_normalizada)\n",
    "frequencia.most_common(10)"
   ]
  },
  {
   "cell_type": "code",
   "execution_count": 30,
   "id": "4c4f5fa8",
   "metadata": {},
   "outputs": [
    {
     "data": {
      "text/plain": [
       "96"
      ]
     },
     "execution_count": 30,
     "metadata": {},
     "output_type": "execute_result"
    }
   ],
   "source": [
    "frequencia[\"lógica\"]"
   ]
  },
  {
   "cell_type": "code",
   "execution_count": 31,
   "id": "716aaea9",
   "metadata": {},
   "outputs": [],
   "source": [
    "def probabilidade(palavra_gerada):\n",
    "    return frequencia[palavra_gerada]/total_de_palavras"
   ]
  },
  {
   "cell_type": "code",
   "execution_count": 32,
   "id": "878b8c7f",
   "metadata": {},
   "outputs": [
    {
     "data": {
      "text/plain": [
       "0.00023819507680550628"
      ]
     },
     "execution_count": 32,
     "metadata": {},
     "output_type": "execute_result"
    }
   ],
   "source": [
    "probabilidade(\"lógica\")"
   ]
  },
  {
   "cell_type": "code",
   "execution_count": 33,
   "id": "42e90373",
   "metadata": {},
   "outputs": [
    {
     "data": {
      "text/plain": [
       "0.0"
      ]
     },
     "execution_count": 33,
     "metadata": {},
     "output_type": "execute_result"
    }
   ],
   "source": [
    "probabilidade(\"lágica\")"
   ]
  },
  {
   "cell_type": "code",
   "execution_count": 36,
   "id": "06ae1ed2",
   "metadata": {},
   "outputs": [
    {
     "data": {
      "text/plain": [
       "0.0"
      ]
     },
     "execution_count": 36,
     "metadata": {},
     "output_type": "execute_result"
    }
   ],
   "source": [
    "probabilidade(\"logica\")"
   ]
  },
  {
   "cell_type": "markdown",
   "id": "30e2c887",
   "metadata": {},
   "source": [
    "## Teste da Função corretor"
   ]
  },
  {
   "cell_type": "code",
   "execution_count": 39,
   "id": "c0e106af",
   "metadata": {},
   "outputs": [
    {
     "data": {
      "text/plain": [
       "'lógica'"
      ]
     },
     "execution_count": 39,
     "metadata": {},
     "output_type": "execute_result"
    }
   ],
   "source": [
    "corretor(\"lgica\")"
   ]
  },
  {
   "cell_type": "markdown",
   "id": "a61a3285",
   "metadata": {},
   "source": [
    "## Preparando Dados de Teste"
   ]
  },
  {
   "cell_type": "code",
   "execution_count": 44,
   "id": "7fc29446",
   "metadata": {},
   "outputs": [],
   "source": [
    "def criar_dados_teste(base_de_dados):\n",
    "    lista_palavras_teste = []\n",
    "    file = open(base_de_dados, 'r')\n",
    "    for linha in file:\n",
    "        correta, errada = linha.split()\n",
    "        lista_palavras_teste.append((correta,errada))\n",
    "    file.close()\n",
    "    return lista_palavras_teste"
   ]
  },
  {
   "cell_type": "code",
   "execution_count": 45,
   "id": "acddb7f2",
   "metadata": {},
   "outputs": [],
   "source": [
    "lista_teste = criar_dados_teste('palavras.txt')"
   ]
  },
  {
   "cell_type": "code",
   "execution_count": 48,
   "id": "0eb87776",
   "metadata": {},
   "outputs": [
    {
     "data": {
      "text/plain": [
       "[('podemos', 'pyodemos'),\n",
       " ('esse', 'esje'),\n",
       " ('já', 'jrá'),\n",
       " ('nosso', 'nossov'),\n",
       " ('são', 'sãêo'),\n",
       " ('dos', 'dosa'),\n",
       " ('muito', 'muifo'),\n",
       " ('imagem', 'iômagem'),\n",
       " ('sua', 'ósua'),\n",
       " ('também', 'tambéùm'),\n",
       " ('ele', 'eme'),\n",
       " ('fazer', 'èazer'),\n",
       " ('temos', 'temfs'),\n",
       " ('essa', 'eàssa'),\n",
       " ('quando', 'quaôdo'),\n",
       " ('vamos', 'vamvos'),\n",
       " ('sobre', 'hsobre'),\n",
       " ('java', 'sjava'),\n",
       " ('das', 'daõs'),\n",
       " ('agora', 'agorah')]"
      ]
     },
     "execution_count": 48,
     "metadata": {},
     "output_type": "execute_result"
    }
   ],
   "source": [
    "lista_teste[:20]"
   ]
  },
  {
   "cell_type": "markdown",
   "id": "16ea085e",
   "metadata": {},
   "source": [
    "## Avaliando o Corretor"
   ]
  },
  {
   "cell_type": "code",
   "execution_count": 66,
   "id": "13227d2a",
   "metadata": {},
   "outputs": [],
   "source": [
    "def avaliador(testes):\n",
    "    numero_de_palavras = len(testes)\n",
    "    acertou = 0\n",
    "    for correta,errada in testes:\n",
    "        palavra_corrigida = corretor(errada)\n",
    "        if palavra_corrigida == correta:\n",
    "            acertou = acertou + 1\n",
    "    taxa_de_acerto = round((acertou/numero_de_palavras),4)\n",
    "    print(f\"Taxa de acerto: {taxa_de_acerto*100}% de {numero_de_palavras} palavras\")"
   ]
  },
  {
   "cell_type": "code",
   "execution_count": 67,
   "id": "4d1ee993",
   "metadata": {},
   "outputs": [
    {
     "name": "stdout",
     "output_type": "stream",
     "text": [
      "Taxa de acerto: 1.08% de 186 palavras\n"
     ]
    }
   ],
   "source": [
    "avaliador(lista_teste)"
   ]
  },
  {
   "cell_type": "markdown",
   "id": "e82a91d6",
   "metadata": {},
   "source": [
    "## Operação Deletar Caracteres"
   ]
  },
  {
   "cell_type": "code",
   "execution_count": 74,
   "id": "01943050",
   "metadata": {},
   "outputs": [],
   "source": [
    "def deletar_caracteres(fatias):\n",
    "    novas_palavras = []\n",
    "    for E, D in fatias:\n",
    "        novas_palavras.append(E + D[1:])\n",
    "    return novas_palavras"
   ]
  },
  {
   "cell_type": "code",
   "execution_count": 75,
   "id": "87964c82",
   "metadata": {
    "scrolled": true
   },
   "outputs": [
    {
     "data": {
      "text/plain": [
       "'blóigica'"
      ]
     },
     "execution_count": 75,
     "metadata": {},
     "output_type": "execute_result"
    }
   ],
   "source": [
    "gerador_palavras(\"lóigica\")[1]"
   ]
  },
  {
   "cell_type": "code",
   "execution_count": 76,
   "id": "868d8fd6",
   "metadata": {},
   "outputs": [
    {
     "data": {
      "text/plain": [
       "'lógica'"
      ]
     },
     "execution_count": 76,
     "metadata": {},
     "output_type": "execute_result"
    }
   ],
   "source": [
    "corretor(\"lóigica\")"
   ]
  },
  {
   "cell_type": "markdown",
   "id": "f25b5286",
   "metadata": {},
   "source": [
    "## Reescrevendo a Função Gerador de Palavras"
   ]
  },
  {
   "cell_type": "code",
   "execution_count": 77,
   "id": "907ddc4c",
   "metadata": {},
   "outputs": [],
   "source": [
    "def gerador_palavras(palavra):\n",
    "    fatias = []\n",
    "    for i in range(len(palavra)+1):\n",
    "        fatias.append((palavra[:i],palavra[i:]))\n",
    "    palavras_geradas = insere_letras(fatias)\n",
    "    palavras_geradas += deletar_caracteres(fatias)\n",
    "    return palavras_geradas"
   ]
  },
  {
   "cell_type": "code",
   "execution_count": 79,
   "id": "d7bc82bd",
   "metadata": {},
   "outputs": [],
   "source": [
    "resultado_exemplo = gerador_palavras(\"lógica\")"
   ]
  },
  {
   "cell_type": "code",
   "execution_count": 89,
   "id": "824ea67d",
   "metadata": {},
   "outputs": [
    {
     "data": {
      "text/plain": [
       "'lógica'"
      ]
     },
     "execution_count": 89,
     "metadata": {},
     "output_type": "execute_result"
    }
   ],
   "source": [
    "resultado_exemplo[-1]"
   ]
  },
  {
   "cell_type": "markdown",
   "id": "e298e84d",
   "metadata": {},
   "source": [
    "## Avaliando o Corretor"
   ]
  },
  {
   "cell_type": "code",
   "execution_count": 90,
   "id": "38d1515c",
   "metadata": {},
   "outputs": [
    {
     "name": "stdout",
     "output_type": "stream",
     "text": [
      "Taxa de acerto: 41.4% de 186 palavras\n"
     ]
    }
   ],
   "source": [
    "avaliador(lista_teste)"
   ]
  },
  {
   "cell_type": "markdown",
   "id": "5ebacee3",
   "metadata": {},
   "source": [
    "## Trocando Letras"
   ]
  },
  {
   "cell_type": "code",
   "execution_count": 91,
   "id": "6a75bb9d",
   "metadata": {},
   "outputs": [],
   "source": [
    "def trocar_letras(fatias):\n",
    "    novas_palavras = []\n",
    "    letras = 'abcdefghijklmnopqrstuvwxyzáàãâéèêíìóòôõúùûç'\n",
    "    for E, D in fatias:\n",
    "        for letra in letras:\n",
    "            novas_palavras.append(E + letra + D[1:])\n",
    "    return novas_palavras"
   ]
  },
  {
   "cell_type": "markdown",
   "id": "8ecd8606",
   "metadata": {},
   "source": [
    "## Agrupando as funções em um só lugar"
   ]
  },
  {
   "cell_type": "code",
   "execution_count": 121,
   "id": "2c77dbed",
   "metadata": {},
   "outputs": [],
   "source": [
    "def insere_letras(fatias):\n",
    "    novas_palavras = []\n",
    "    letras = 'abcdefghijklmnopqrstuvwxyzáàãâéèêíìóòôõúùûç'\n",
    "    for E, D in fatias:\n",
    "        for letra in letras:\n",
    "            novas_palavras.append(E + letra + D)\n",
    "    return novas_palavras\n",
    "\n",
    "def deletar_caracteres(fatias):\n",
    "    novas_palavras = []\n",
    "    for E, D in fatias:\n",
    "        novas_palavras.append(E + D[1:])\n",
    "    return novas_palavras\n",
    "\n",
    "def trocar_letras(fatias):\n",
    "    novas_palavras = []\n",
    "    letras = 'abcdefghijklmnopqrstuvwxyzáàãâéèêíìóòôõúùûç'\n",
    "    for E, D in fatias:\n",
    "        for letra in letras:\n",
    "            novas_palavras.append(E + letra + D[1:])\n",
    "    return novas_palavras\n",
    "\n",
    "def gerador_palavras(palavra):\n",
    "    fatias = []\n",
    "    for i in range(len(palavra)+1):\n",
    "        fatias.append((palavra[:i],palavra[i:]))\n",
    "    palavras_geradas = insere_letras(fatias)\n",
    "    palavras_geradas += deletar_caracteres(fatias)\n",
    "    palavras_geradas += trocar_letras(fatias)\n",
    "    palavras_geradas += inverter_letras(fatias)\n",
    "    return palavras_geradas"
   ]
  },
  {
   "cell_type": "code",
   "execution_count": 127,
   "id": "7632761a",
   "metadata": {},
   "outputs": [],
   "source": [
    "testando = gerador_palavras(\"lígica\")"
   ]
  },
  {
   "cell_type": "code",
   "execution_count": 128,
   "id": "acf049c4",
   "metadata": {},
   "outputs": [
    {
     "data": {
      "text/plain": [
       "'lógica'"
      ]
     },
     "execution_count": 128,
     "metadata": {},
     "output_type": "execute_result"
    }
   ],
   "source": [
    "testando[386]"
   ]
  },
  {
   "cell_type": "markdown",
   "id": "38a7bed4",
   "metadata": {},
   "source": [
    "## Invertendo as Letras"
   ]
  },
  {
   "cell_type": "code",
   "execution_count": 119,
   "id": "66608da1",
   "metadata": {},
   "outputs": [],
   "source": [
    "def inverter_letras(fatias):\n",
    "    novas_palavras = []\n",
    "    for E, D in fatias:\n",
    "        if len(D) > 1:\n",
    "            novas_palavras.append(E + D[1] + D[0] + D[2:])\n",
    "    return novas_palavras"
   ]
  },
  {
   "cell_type": "code",
   "execution_count": 130,
   "id": "786ed251",
   "metadata": {},
   "outputs": [
    {
     "data": {
      "text/plain": [
       "'lógica'"
      ]
     },
     "execution_count": 130,
     "metadata": {},
     "output_type": "execute_result"
    }
   ],
   "source": [
    "testando = gerador_palavras(\"lgóica\")\n",
    "testando[-4]"
   ]
  },
  {
   "cell_type": "markdown",
   "id": "252392eb",
   "metadata": {},
   "source": [
    "## Avaliando o Corretor"
   ]
  },
  {
   "cell_type": "code",
   "execution_count": 131,
   "id": "1901516d",
   "metadata": {},
   "outputs": [
    {
     "name": "stdout",
     "output_type": "stream",
     "text": [
      "Taxa de acerto: 76.34% de 186 palavras\n"
     ]
    }
   ],
   "source": [
    "avaliador(lista_teste)"
   ]
  },
  {
   "cell_type": "markdown",
   "id": "a9a05ae1",
   "metadata": {},
   "source": [
    "## Palavras Desconhecidas do Vocabulário"
   ]
  },
  {
   "cell_type": "code",
   "execution_count": 175,
   "id": "576a4c28",
   "metadata": {},
   "outputs": [],
   "source": [
    "def avaliador(testes,vocabulario):\n",
    "    numero_de_palavras = len(testes)\n",
    "    acertou = 0\n",
    "    desconhecida = 0\n",
    "    for correta,errada in testes:\n",
    "        palavra_corrigida = corretor(errada)\n",
    "        desconhecida += (correta not in vocabulario)\n",
    "        if palavra_corrigida == correta:\n",
    "            acertou += + 1\n",
    "    taxa_de_acerto = round((acertou/numero_de_palavras),4)\n",
    "    taxa_desconhecida = round((desconhecida/numero_de_palavras),4)\n",
    "    print(f\"Taxa de Acerto: {taxa_de_acerto*100}% de {numero_de_palavras} palavras\")\n",
    "    print(f\"Taxa de Palavras Desconhecidas: {taxa_desconhecida*100}% em um vocabulário de {len(vocabulario)} palavras\")"
   ]
  },
  {
   "cell_type": "code",
   "execution_count": 176,
   "id": "e90a8391",
   "metadata": {},
   "outputs": [
    {
     "name": "stdout",
     "output_type": "stream",
     "text": [
      "Taxa de Acerto: 76.34% de 186 palavras\n",
      "Taxa de Palavras Desconhecidas: 6.99% em um vocabulário de 18464 palavras\n"
     ]
    }
   ],
   "source": [
    "vocabulario = set(lista_normalizada)\n",
    "avaliador(lista_teste,vocabulario)"
   ]
  },
  {
   "cell_type": "markdown",
   "id": "3d94104b",
   "metadata": {},
   "source": [
    "## Turbinando o Corretor Ortográfico"
   ]
  },
  {
   "cell_type": "markdown",
   "id": "fc57d846",
   "metadata": {},
   "source": [
    "#### Repetir a operação de eliminar uma letra 2 vezes"
   ]
  },
  {
   "cell_type": "code",
   "execution_count": 157,
   "id": "441b721a",
   "metadata": {},
   "outputs": [],
   "source": [
    "def gerador_turbinado(palavras_geradas):\n",
    "    novas_palavras = []\n",
    "    for palavra in palavras_geradas:\n",
    "        novas_palavras += gerador_palavras(palavra)\n",
    "    return novas_palavras"
   ]
  },
  {
   "cell_type": "code",
   "execution_count": 158,
   "id": "d9ba34c3",
   "metadata": {},
   "outputs": [],
   "source": [
    "palavras_g = gerador_turbinado(gerador_palavras(\"lógica\"))"
   ]
  },
  {
   "cell_type": "code",
   "execution_count": 159,
   "id": "34e79382",
   "metadata": {},
   "outputs": [
    {
     "data": {
      "text/plain": [
       "True"
      ]
     },
     "execution_count": 159,
     "metadata": {},
     "output_type": "execute_result"
    }
   ],
   "source": [
    "\"lógica\" in palavras_g"
   ]
  },
  {
   "cell_type": "code",
   "execution_count": 160,
   "id": "ea6da5e3",
   "metadata": {},
   "outputs": [
    {
     "data": {
      "text/plain": [
       "406740"
      ]
     },
     "execution_count": 160,
     "metadata": {},
     "output_type": "execute_result"
    }
   ],
   "source": [
    "len(palavras_g)"
   ]
  },
  {
   "cell_type": "markdown",
   "id": "00bde8dc",
   "metadata": {},
   "source": [
    "## Escolhendo os Melhores Candidatos"
   ]
  },
  {
   "cell_type": "markdown",
   "id": "b8e84683",
   "metadata": {},
   "source": [
    "#### Como otimizar o corretor, selecionando apenas as possíveis palavras corretas"
   ]
  },
  {
   "cell_type": "code",
   "execution_count": 169,
   "id": "370ec985",
   "metadata": {},
   "outputs": [],
   "source": [
    "def novo_corretor(palavra):\n",
    "    palavras_geradas = gerador_palavras(palavra)\n",
    "    palavras_geradas_turb = gerador_turbinado(palavras_geradas)\n",
    "    todas_palavras = set(palavras_geradas + palavras_geradas_turb)\n",
    "    candidatos = [palavra]\n",
    "    for palavra in todas_palavras:\n",
    "        if palavra in vocabulario:\n",
    "            candidatos.append(palavra)\n",
    "    palavra_correta = max(candidatos,key=probabilidade)\n",
    "    return palavra_correta"
   ]
  },
  {
   "cell_type": "code",
   "execution_count": 170,
   "id": "c326422c",
   "metadata": {},
   "outputs": [
    {
     "data": {
      "text/plain": [
       "'lógica'"
      ]
     },
     "execution_count": 170,
     "metadata": {},
     "output_type": "execute_result"
    }
   ],
   "source": [
    "novo_corretor(\"lóiigica\")"
   ]
  },
  {
   "cell_type": "markdown",
   "id": "aacc5281",
   "metadata": {},
   "source": [
    "## Avaliando o Novo Corretor"
   ]
  },
  {
   "cell_type": "code",
   "execution_count": 180,
   "id": "4bb78791",
   "metadata": {},
   "outputs": [],
   "source": [
    "def novo_avaliador(testes,vocabulario):\n",
    "    numero_de_palavras = len(testes)\n",
    "    acertou = 0\n",
    "    desconhecida = 0\n",
    "    for correta,errada in testes:\n",
    "        palavra_corrigida = novo_corretor(errada)\n",
    "        desconhecida += (correta not in vocabulario)\n",
    "        if palavra_corrigida == correta:\n",
    "            acertou += + 1\n",
    "        else:\n",
    "            print(errada + \" - \" + corretor(errada) + \" - \" +  palavra_corrigida)\n",
    "    taxa_de_acerto = round((acertou/numero_de_palavras),4)\n",
    "    taxa_desconhecida = round((desconhecida/numero_de_palavras),4)\n",
    "    print(f\"Taxa de Acerto: {taxa_de_acerto*100}% de {numero_de_palavras} palavras\")\n",
    "    print(f\"Taxa de Palavras Desconhecidas: {taxa_desconhecida*100}% em um vocabulário de {len(vocabulario)} palavras\")"
   ]
  },
  {
   "cell_type": "code",
   "execution_count": 181,
   "id": "0dc1da19",
   "metadata": {},
   "outputs": [
    {
     "name": "stdout",
     "output_type": "stream",
     "text": [
      "esje - esse - se\n",
      "sãêo - são - não\n",
      "dosa - dos - do\n",
      "eme - em - de\n",
      "eàssa - essa - esse\n",
      "daõs - das - da\n",
      "céda - cada - da\n",
      "noâ - no - o\n",
      "enêão - então - não\n",
      "tĩem - tem - em\n",
      "nossah - nossa - nosso\n",
      "teb - tem - de\n",
      "atĩ - até - a\n",
      "âem - em - de\n",
      "foo - foi - o\n",
      "serr - ser - se\n",
      "entke - entre - então\n",
      "van - vai - a\n",
      "çeus - seus - seu\n",
      "eû - e - de\n",
      "temeo - tempo - temos\n",
      "semre - sempre - ser\n",
      "elaá - ela - ele\n",
      "síó - só - se\n",
      "siàe - site - se\n",
      "seém - sem - em\n",
      "peln - pelo - ele\n",
      "aléra - alura - agora\n",
      "tdia - dia - da\n",
      "tuúo - tudo - tipo\n",
      "jé - é - de\n",
      "sãô - são - não\n",
      "odos - dos - do\n",
      "siua - sua - seu\n",
      "elpe - ele - esse\n",
      "teos - temos - os\n",
      "eũsa - essa - esse\n",
      "vjmos - vamos - temos\n",
      "dms - dos - de\n",
      "cava - java - para\n",
      "ános - nos - no\n",
      "èaso - caso - as\n",
      "túem - tem - em\n",
      "daáos - dados - dos\n",
      "nossk - nosso - nosso\n",
      "tãer - ter - ser\n",
      "vté - até - é\n",
      "búm - bem - um\n",
      "sçerá - será - ser\n",
      "entró - entre - então\n",
      "uai - vai - a\n",
      "sâus - seus - seu\n",
      "ìeu - seu - de\n",
      "fual - qual - sua\n",
      "elal - ela - ele\n",
      "skó - só - se\n",
      "secm - sem - em\n",
      "aluéa - alura - além\n",
      "dil - dia - de\n",
      "sód - só - se\n",
      "eúaa - aeúaa - essa\n",
      "ró - só - de\n",
      "dĩaz - adĩaz - da\n",
      "correptor - corretor - correto\n",
      "trtica - tática - prática\n",
      "ewpoderamento - aewpoderamento - ewpoderamento\n",
      "îgato - gato - fato\n",
      "cakvalo - acakvalo - carvalho\n",
      "canelac - acanelac - janela\n",
      "tênisy - atênisy - tênisy\n",
      "anciosa - aanciosa - ansioso\n",
      "ancciosa - aancciosa - ancciosa\n",
      "ansioa - aansioa - ensina\n",
      "asterístico - aasterístico - asterístico\n",
      "entertido - aentertido - entendido\n",
      "ritimo - ritmo - ótimo\n",
      "indiota - aindiota - indica\n",
      "tomare - tomar - tomar\n",
      "seje - seja - se\n",
      "provalecer - aprovalecer - prevalece\n",
      "esteje - esteja - este\n",
      "mindigo - amindigo - indico\n",
      "pertubar - apertubar - derrubar\n",
      "Taxa de Acerto: 55.379999999999995% de 186 palavras\n",
      "Taxa de Palavras Desconhecidas: 6.99% em um vocabulário de 18464 palavras\n"
     ]
    }
   ],
   "source": [
    "vocabulario = set(lista_normalizada)\n",
    "novo_avaliador(lista_teste,vocabulario)"
   ]
  },
  {
   "cell_type": "markdown",
   "id": "4daee68f",
   "metadata": {},
   "source": [
    "## Avaliando Corretor Antigo"
   ]
  },
  {
   "cell_type": "code",
   "execution_count": 182,
   "id": "56509215",
   "metadata": {
    "scrolled": true
   },
   "outputs": [
    {
     "name": "stdout",
     "output_type": "stream",
     "text": [
      "Taxa de Acerto: 76.34% de 186 palavras\n",
      "Taxa de Palavras Desconhecidas: 6.99% em um vocabulário de 18464 palavras\n"
     ]
    }
   ],
   "source": [
    "vocabulario = set(lista_normalizada)\n",
    "avaliador(lista_teste,vocabulario)"
   ]
  },
  {
   "cell_type": "markdown",
   "id": "3cb96491",
   "metadata": {},
   "source": [
    "## Testes: Antigo x Novo Corretor"
   ]
  },
  {
   "cell_type": "code",
   "execution_count": 192,
   "id": "6eef0da6",
   "metadata": {},
   "outputs": [
    {
     "name": "stdout",
     "output_type": "stream",
     "text": [
      "Novo: lógica\n",
      "Antigo: lógica\n"
     ]
    }
   ],
   "source": [
    "palavra = \"lóogica\"\n",
    "\n",
    "print(f'Novo: {novo_corretor(palavra)}')\n",
    "print(f'Antigo: {corretor(palavra)}')"
   ]
  },
  {
   "cell_type": "code",
   "execution_count": null,
   "id": "7bd11f53",
   "metadata": {},
   "outputs": [],
   "source": []
  }
 ],
 "metadata": {
  "kernelspec": {
   "display_name": "Python 3 (ipykernel)",
   "language": "python",
   "name": "python3"
  },
  "language_info": {
   "codemirror_mode": {
    "name": "ipython",
    "version": 3
   },
   "file_extension": ".py",
   "mimetype": "text/x-python",
   "name": "python",
   "nbconvert_exporter": "python",
   "pygments_lexer": "ipython3",
   "version": "3.9.13"
  }
 },
 "nbformat": 4,
 "nbformat_minor": 5
}
